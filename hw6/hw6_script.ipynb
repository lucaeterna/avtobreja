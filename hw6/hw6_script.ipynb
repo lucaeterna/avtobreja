{
 "cells": [
  {
   "cell_type": "code",
   "execution_count": 1,
   "metadata": {
    "collapsed": true
   },
   "outputs": [],
   "source": [
    "import sys\n",
    "import gensim, logging\n",
    "\n",
    "logging.basicConfig(format='%(asctime)s : %(levelname)s : %(message)s', level=logging.INFO)"
   ]
  },
  {
   "cell_type": "code",
   "execution_count": 2,
   "metadata": {
    "collapsed": true
   },
   "outputs": [],
   "source": [
    "m = 'ruscorpora_1_300_10.bin'"
   ]
  },
  {
   "cell_type": "markdown",
   "metadata": {},
   "source": [
    "загружаем модель, натренированную на НКРЯ:"
   ]
  },
  {
   "cell_type": "code",
   "execution_count": 3,
   "metadata": {
    "collapsed": false
   },
   "outputs": [
    {
     "name": "stderr",
     "output_type": "stream",
     "text": [
      "2017-03-30 17:43:04,801 : INFO : loading projection weights from ruscorpora_1_300_10.bin\n",
      "2017-03-30 17:43:10,629 : INFO : loaded (184973, 300) matrix from ruscorpora_1_300_10.bin\n"
     ]
    }
   ],
   "source": [
    "model = gensim.models.keyedvectors.KeyedVectors.load_word2vec_format(m, binary=True) "
   ]
  },
  {
   "cell_type": "code",
   "execution_count": 4,
   "metadata": {
    "collapsed": true
   },
   "outputs": [],
   "source": [
    "import os"
   ]
  },
  {
   "cell_type": "code",
   "execution_count": 41,
   "metadata": {
    "collapsed": false
   },
   "outputs": [
    {
     "data": {
      "text/plain": [
       "['test_unknown.arff',\n",
       " 'izvest_stats.csv',\n",
       " 'classification_task_test.csv',\n",
       " 'anekdots',\n",
       " 'teh_stats.csv',\n",
       " 'classification_task_train.csv',\n",
       " 'classification_task_3.arff',\n",
       " 'classification_task_train.arff',\n",
       " 'izvest',\n",
       " 'logistic.model']"
      ]
     },
     "execution_count": 41,
     "metadata": {},
     "output_type": "execute_result"
    }
   ],
   "source": [
    "dir1 = '/home/lux/Main/АвтОбрЕЯ/4course/weka/weka/'\n",
    "os.listdir(directory)[:10]"
   ]
  },
  {
   "cell_type": "code",
   "execution_count": 43,
   "metadata": {
    "collapsed": false
   },
   "outputs": [
    {
     "data": {
      "text/plain": [
       "[]"
      ]
     },
     "execution_count": 43,
     "metadata": {},
     "output_type": "execute_result"
    }
   ],
   "source": [
    "files = [f for f in os.listdir(directory) if f.endswith('.txt')]\n",
    "files[:10]"
   ]
  },
  {
   "cell_type": "code",
   "execution_count": 30,
   "metadata": {
    "collapsed": true
   },
   "outputs": [],
   "source": [
    "import nltk"
   ]
  },
  {
   "cell_type": "code",
   "execution_count": 31,
   "metadata": {
    "collapsed": true
   },
   "outputs": [],
   "source": [
    "stopwords = nltk.corpus.stopwords.words('russian')"
   ]
  },
  {
   "cell_type": "code",
   "execution_count": 32,
   "metadata": {
    "collapsed": true
   },
   "outputs": [],
   "source": [
    "from pymystem3 import Mystem\n",
    "m = Mystem()"
   ]
  },
  {
   "cell_type": "code",
   "execution_count": 33,
   "metadata": {
    "collapsed": true
   },
   "outputs": [],
   "source": [
    "def get_lemmas(text):\n",
    "    ans = m.analyze(text)\n",
    "    words = []\n",
    "    for an in ans:\n",
    "        try:\n",
    "            if an['analysis'] == []:\n",
    "                #gram = 'UNKN'\n",
    "                lemma = an['text']\n",
    "            else:\n",
    "                analysis = an['analysis'][0]\n",
    "                #print(analysis)\n",
    "                #gram = reg_pos.search(analysis['gr']).group(1)\n",
    "                lemma = analysis['lex']\n",
    "                #print(lemma, gram)\n",
    "            words.append(lemma)\n",
    "        except KeyError:\n",
    "            pass\n",
    "        \n",
    "    return(words) "
   ]
  },
  {
   "cell_type": "code",
   "execution_count": 25,
   "metadata": {
    "collapsed": false
   },
   "outputs": [
    {
     "data": {
      "text/plain": [
       "['sekret.txt',\n",
       " 'zhd.txt',\n",
       " 'oficiant.txt',\n",
       " 'polit_80_90.txt',\n",
       " 'igrok.txt',\n",
       " 'prib.txt',\n",
       " 'blond.txt',\n",
       " 'bolnica.txt',\n",
       " 'bozhest.txt',\n",
       " 'kgb.txt']"
      ]
     },
     "execution_count": 25,
     "metadata": {},
     "output_type": "execute_result"
    }
   ],
   "source": [
    "for f in files:\n",
    "    text = open(directory + f).read()\n",
    "    lemmas = get_lemmas(text)\n",
    "    for lemma in lemmas:\n",
    "    # есть ли слово в модели? Может быть, и нет\n",
    "    if lemma in model:\n",
    "        print(lemma)\n",
    "        print(model[lemma][:4])\n",
    "    else:\n",
    "        print(lemma + ' is not present in the model'"
   ]
  },
  {
   "cell_type": "code",
   "execution_count": null,
   "metadata": {
    "collapsed": false
   },
   "outputs": [],
   "source": []
  },
  {
   "cell_type": "code",
   "execution_count": null,
   "metadata": {
    "collapsed": false
   },
   "outputs": [],
   "source": []
  },
  {
   "cell_type": "code",
   "execution_count": null,
   "metadata": {
    "collapsed": true
   },
   "outputs": [],
   "source": []
  }
 ],
 "metadata": {
  "kernelspec": {
   "display_name": "Python 3",
   "language": "python",
   "name": "python3"
  },
  "language_info": {
   "codemirror_mode": {
    "name": "ipython",
    "version": 3
   },
   "file_extension": ".py",
   "mimetype": "text/x-python",
   "name": "python",
   "nbconvert_exporter": "python",
   "pygments_lexer": "ipython3",
   "version": "3.5.2"
  }
 },
 "nbformat": 4,
 "nbformat_minor": 2
}
