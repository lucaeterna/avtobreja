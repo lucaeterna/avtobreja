{
 "cells": [
  {
   "cell_type": "code",
   "execution_count": 1,
   "metadata": {
    "collapsed": true
   },
   "outputs": [],
   "source": [
    "from nltk.corpus import wordnet"
   ]
  },
  {
   "cell_type": "code",
   "execution_count": 2,
   "metadata": {
    "collapsed": false
   },
   "outputs": [
    {
     "data": {
      "text/plain": [
       "[Synset('plant.n.01'),\n",
       " Synset('plant.n.02'),\n",
       " Synset('plant.n.03'),\n",
       " Synset('plant.n.04'),\n",
       " Synset('plant.v.01'),\n",
       " Synset('implant.v.01'),\n",
       " Synset('establish.v.02'),\n",
       " Synset('plant.v.04'),\n",
       " Synset('plant.v.05'),\n",
       " Synset('plant.v.06')]"
      ]
     },
     "execution_count": 2,
     "metadata": {},
     "output_type": "execute_result"
    }
   ],
   "source": [
    "wordnet.synsets('plant')"
   ]
  },
  {
   "cell_type": "code",
   "execution_count": 10,
   "metadata": {
    "collapsed": false
   },
   "outputs": [
    {
     "name": "stdout",
     "output_type": "stream",
     "text": [
      "Synset('plant.n.01') buildings for carrying on industrial labor\n",
      "Synset('plant.n.02') (botany) a living organism lacking the power of locomotion\n"
     ]
    }
   ],
   "source": [
    "for synset in wordnet.synsets('plant')[:2]:\n",
    "    print(synset, synset.definition())"
   ]
  },
  {
   "cell_type": "code",
   "execution_count": 17,
   "metadata": {
    "collapsed": false
   },
   "outputs": [],
   "source": [
    "sent1 = 'Ripples from nuclear plant closings overwhelm small towns'\n",
    "sent2 = 'Learning about plants helps you manage a healthier garden'\n",
    "sent1 = sent1.split()\n",
    "sent2 = sent2.split()"
   ]
  },
  {
   "cell_type": "code",
   "execution_count": null,
   "metadata": {
    "collapsed": false
   },
   "outputs": [],
   "source": []
  },
  {
   "cell_type": "code",
   "execution_count": 12,
   "metadata": {
    "collapsed": true
   },
   "outputs": [],
   "source": [
    "from nltk.wsd import lesk"
   ]
  },
  {
   "cell_type": "code",
   "execution_count": 20,
   "metadata": {
    "collapsed": false
   },
   "outputs": [
    {
     "data": {
      "text/plain": [
       "'put firmly in the mind'"
      ]
     },
     "execution_count": 20,
     "metadata": {},
     "output_type": "execute_result"
    }
   ],
   "source": [
    "lesk(sent1, 'plant').definition()"
   ]
  },
  {
   "cell_type": "code",
   "execution_count": 21,
   "metadata": {
    "collapsed": false
   },
   "outputs": [
    {
     "data": {
      "text/plain": [
       "'place something or someone in a certain position in order to secretly observe or deceive'"
      ]
     },
     "execution_count": 21,
     "metadata": {},
     "output_type": "execute_result"
    }
   ],
   "source": [
    "lesk(sent2, 'plant').definition()"
   ]
  },
  {
   "cell_type": "markdown",
   "metadata": {},
   "source": [
    "Ну, как-то не очень."
   ]
  },
  {
   "cell_type": "code",
   "execution_count": 24,
   "metadata": {
    "collapsed": false
   },
   "outputs": [
    {
     "data": {
      "text/plain": [
       "([Synset('building_complex.n.01')], [Synset('entity.n.01')])"
      ]
     },
     "execution_count": 24,
     "metadata": {},
     "output_type": "execute_result"
    }
   ],
   "source": [
    "wordnet.synset('plant.n.01').hypernyms(), wordnet.synset('plant.n.01').root_hypernyms()"
   ]
  },
  {
   "cell_type": "code",
   "execution_count": 25,
   "metadata": {
    "collapsed": false
   },
   "outputs": [
    {
     "data": {
      "text/plain": [
       "([Synset('organism.n.01')], [Synset('entity.n.01')])"
      ]
     },
     "execution_count": 25,
     "metadata": {},
     "output_type": "execute_result"
    }
   ],
   "source": [
    "wordnet.synset('plant.n.02').hypernyms(), wordnet.synset('plant.n.02').root_hypernyms()"
   ]
  },
  {
   "cell_type": "code",
   "execution_count": 44,
   "metadata": {
    "collapsed": false
   },
   "outputs": [
    {
     "name": "stdout",
     "output_type": "stream",
     "text": [
      "Synset('industry.n.01') distance:  15\n",
      "Synset('industry.n.02') distance:  16\n",
      "Synset('diligence.n.02') distance:  14\n"
     ]
    }
   ],
   "source": [
    "factory = wordnet.synset('plant.n.01')\n",
    "dis = []\n",
    "for synset in wordnet.synsets('industry'):\n",
    "    if factory.path_similarity(synset) is not None:\n",
    "        print(synset, 'distance: ', int(1/factory.path_similarity(synset)))\n",
    "        dis.append(int(1/factory.path_similarity(synset)))\n",
    "    else:\n",
    "        print('POS-dismatch')\n",
    "#min(dis)"
   ]
  },
  {
   "cell_type": "code",
   "execution_count": 42,
   "metadata": {
    "collapsed": false
   },
   "outputs": [
    {
     "name": "stdout",
     "output_type": "stream",
     "text": [
      "Synset('leaf.n.01') distance:  8\n",
      "Synset('leaf.n.02') distance:  12\n",
      "Synset('leaf.n.03') distance:  8\n",
      "POS-dismatch\n",
      "POS-dismatch\n",
      "POS-dismatch\n"
     ]
    }
   ],
   "source": [
    "plant = wordnet.synset('plant.n.02')\n",
    "dis = []\n",
    "for synset in wordnet.synsets('leaf'):\n",
    "    if plant.path_similarity(synset) is not None:\n",
    "        print(synset, 'distance: ', int(1/plant.path_similarity(synset)))\n",
    "        dis.append(int(1/plant.path_similarity(synset)))\n",
    "    else:\n",
    "        print('POS-dismatch')\n",
    "#min(dis)"
   ]
  },
  {
   "cell_type": "code",
   "execution_count": 10,
   "metadata": {
    "collapsed": false
   },
   "outputs": [
    {
     "name": "stdout",
     "output_type": "stream",
     "text": [
      "Synset('industry.n.01') distance:  15\n",
      "Synset('industry.n.02') distance:  16\n",
      "Synset('diligence.n.02') distance:  14\n",
      "Synset('leaf.n.01') distance:  9\n",
      "Synset('leaf.n.02') distance:  13\n",
      "Synset('leaf.n.03') distance:  9\n",
      "POS-dismatch\n",
      "POS-dismatch\n",
      "POS-dismatch\n"
     ]
    },
    {
     "data": {
      "text/plain": [
       "9"
      ]
     },
     "execution_count": 10,
     "metadata": {},
     "output_type": "execute_result"
    }
   ],
   "source": [
    "factory = wordnet.synset('plant.n.01')\n",
    "dis = []\n",
    "for synset in wordnet.synsets('industry') + wordnet.synsets('leaf'):\n",
    "    if factory.path_similarity(synset) is not None:\n",
    "        print(synset, 'distance: ', int(1/factory.path_similarity(synset)))\n",
    "        dis.append(int(1/factory.path_similarity(synset)))\n",
    "    else:\n",
    "        print('POS-dismatch')\n",
    "min(dis)"
   ]
  },
  {
   "cell_type": "markdown",
   "metadata": {},
   "source": [
    "Как-то странно, получается, что \"завод\" ближе к листу, чем к промышленности"
   ]
  },
  {
   "cell_type": "code",
   "execution_count": 42,
   "metadata": {
    "collapsed": false
   },
   "outputs": [],
   "source": [
    "def distance(syn, lex):\n",
    "    first = True\n",
    "    for synset in lex:\n",
    "        if syn.path_similarity(synset) is not None:\n",
    "            dis = int(1/syn.path_similarity(synset))\n",
    "            if first is True:\n",
    "                first = False\n",
    "                min_dis = dis\n",
    "                min_syn = synset\n",
    "            else:\n",
    "                print(synset, 'distance: ', dis)\n",
    "                if dis < min_dis:\n",
    "                    min_dis = dis\n",
    "                    min_syn = synset\n",
    "        else:\n",
    "            print('POS-dismatch')\n",
    "    return(min_dis, min_syn)"
   ]
  },
  {
   "cell_type": "code",
   "execution_count": 43,
   "metadata": {
    "collapsed": false
   },
   "outputs": [
    {
     "name": "stdout",
     "output_type": "stream",
     "text": [
      "Synset('industry.n.02') distance:  15\n",
      "Synset('diligence.n.02') distance:  13\n",
      "Synset('leaf.n.01') distance:  8\n",
      "Synset('leaf.n.02') distance:  12\n",
      "Synset('leaf.n.03') distance:  8\n",
      "POS-dismatch\n",
      "POS-dismatch\n",
      "POS-dismatch\n"
     ]
    },
    {
     "data": {
      "text/plain": [
       "(8, Synset('leaf.n.01'))"
      ]
     },
     "execution_count": 43,
     "metadata": {},
     "output_type": "execute_result"
    }
   ],
   "source": [
    "distance(wordnet.synset('plant.n.02'), wordnet.synsets('industry') + wordnet.synsets('leaf'))"
   ]
  },
  {
   "cell_type": "code",
   "execution_count": 24,
   "metadata": {
    "collapsed": false
   },
   "outputs": [],
   "source": [
    "org = wordnet.synsets('organism')[0]\n",
    "whole = wordnet.synsets('whole')[0]"
   ]
  },
  {
   "cell_type": "code",
   "execution_count": 34,
   "metadata": {
    "collapsed": false
   },
   "outputs": [
    {
     "data": {
      "text/plain": [
       "13.0"
      ]
     },
     "execution_count": 34,
     "metadata": {},
     "output_type": "execute_result"
    }
   ],
   "source": [
    "1/wordnet.path_similarity(org, whole)"
   ]
  },
  {
   "cell_type": "code",
   "execution_count": 31,
   "metadata": {
    "collapsed": false
   },
   "outputs": [
    {
     "data": {
      "text/plain": [
       "Synset('entity.n.01')"
      ]
     },
     "execution_count": 31,
     "metadata": {},
     "output_type": "execute_result"
    }
   ],
   "source": [
    "hyp = org.lowest_common_hypernyms(whole)[0]\n",
    "hyp"
   ]
  },
  {
   "cell_type": "code",
   "execution_count": 35,
   "metadata": {
    "collapsed": false
   },
   "outputs": [
    {
     "data": {
      "text/plain": [
       "6.0"
      ]
     },
     "execution_count": 35,
     "metadata": {},
     "output_type": "execute_result"
    }
   ],
   "source": [
    "1/hyp.path_similarity(org)"
   ]
  },
  {
   "cell_type": "code",
   "execution_count": 36,
   "metadata": {
    "collapsed": false
   },
   "outputs": [
    {
     "data": {
      "text/plain": [
       "8.0"
      ]
     },
     "execution_count": 36,
     "metadata": {},
     "output_type": "execute_result"
    }
   ],
   "source": [
    "1/hyp.path_similarity(whole)"
   ]
  },
  {
   "cell_type": "code",
   "execution_count": 52,
   "metadata": {
    "collapsed": false
   },
   "outputs": [],
   "source": [
    "def distance_lex(lex1, lex2):\n",
    "    first = True\n",
    "    for synset1 in lex1:\n",
    "        for synset2 in lex2:\n",
    "            if synset1.path_similarity(synset2) is not None:\n",
    "                dis = int(1/synset1.path_similarity(synset2))\n",
    "                if first is True:\n",
    "                    first = False\n",
    "                    min_dis = dis\n",
    "                    syn1 = synset1\n",
    "                    syn2 = synset2\n",
    "                else:\n",
    "                    if dis < min_dis:\n",
    "                        min_dis = dis\n",
    "                        syn1 = synset1\n",
    "                        syn2 = synset2\n",
    "                print(synset1, synset2, 'distance: ', dis)\n",
    "            else:\n",
    "                print('POS-dismatch')\n",
    "    return(syn1, syn2, min_dis)"
   ]
  },
  {
   "cell_type": "code",
   "execution_count": 53,
   "metadata": {
    "collapsed": false
   },
   "outputs": [
    {
     "name": "stdout",
     "output_type": "stream",
     "text": [
      "Synset('organism.n.01') Synset('whole.n.01') distance:  13\n",
      "Synset('organism.n.01') Synset('whole.n.02') distance:  3\n",
      "POS-dismatch\n",
      "POS-dismatch\n",
      "POS-dismatch\n",
      "POS-dismatch\n",
      "POS-dismatch\n",
      "POS-dismatch\n",
      "Synset('organism.n.02') Synset('whole.n.01') distance:  10\n",
      "Synset('organism.n.02') Synset('whole.n.02') distance:  8\n",
      "POS-dismatch\n",
      "POS-dismatch\n",
      "POS-dismatch\n",
      "POS-dismatch\n",
      "POS-dismatch\n",
      "POS-dismatch\n"
     ]
    },
    {
     "data": {
      "text/plain": [
       "(Synset('organism.n.01'), Synset('whole.n.02'), 3)"
      ]
     },
     "execution_count": 53,
     "metadata": {},
     "output_type": "execute_result"
    }
   ],
   "source": [
    "distance_lex(wordnet.synsets('organism'), wordnet.synsets('whole'))"
   ]
  },
  {
   "cell_type": "code",
   "execution_count": 56,
   "metadata": {
    "collapsed": false
   },
   "outputs": [
    {
     "data": {
      "text/plain": [
       "('a living thing that has (or can develop) the ability to act or function independently',\n",
       " 'an assemblage of parts that is regarded as a single entity')"
      ]
     },
     "execution_count": 56,
     "metadata": {},
     "output_type": "execute_result"
    }
   ],
   "source": [
    "wordnet.synset('organism.n.01').definition(), wordnet.synset('whole.n.02').definition()"
   ]
  },
  {
   "cell_type": "markdown",
   "metadata": {},
   "source": [
    "Я не понимаю, как найти расстояние по-другому."
   ]
  }
 ],
 "metadata": {
  "kernelspec": {
   "display_name": "Python 3",
   "language": "python",
   "name": "python3"
  },
  "language_info": {
   "codemirror_mode": {
    "name": "ipython",
    "version": 3
   },
   "file_extension": ".py",
   "mimetype": "text/x-python",
   "name": "python",
   "nbconvert_exporter": "python",
   "pygments_lexer": "ipython3",
   "version": "3.5.2"
  }
 },
 "nbformat": 4,
 "nbformat_minor": 2
}
