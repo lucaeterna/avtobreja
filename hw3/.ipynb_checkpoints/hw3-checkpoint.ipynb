{
 "cells": [
  {
   "cell_type": "code",
   "execution_count": 1,
   "metadata": {
    "collapsed": true
   },
   "outputs": [],
   "source": [
    "import re\n",
    "import numpy as np"
   ]
  },
  {
   "cell_type": "code",
   "execution_count": 2,
   "metadata": {
    "collapsed": true
   },
   "outputs": [],
   "source": [
    "with open('anna.txt') as f:\n",
    "    anna = f.read()"
   ]
  },
  {
   "cell_type": "code",
   "execution_count": 3,
   "metadata": {
    "collapsed": true
   },
   "outputs": [],
   "source": [
    "with open('sonets.txt') as f:\n",
    "    sonets = f.read()"
   ]
  },
  {
   "cell_type": "code",
   "execution_count": 5,
   "metadata": {
    "collapsed": true
   },
   "outputs": [],
   "source": [
    "anna_sen = re.split(r'(?:[.]\\s*){3}|[.?!]', anna)\n",
    "sonet_sen = re.split(r'(?:[.]\\s*){3}|[.?!]', sonets)"
   ]
  },
  {
   "cell_type": "code",
   "execution_count": 6,
   "metadata": {
    "collapsed": false
   },
   "outputs": [
    {
     "data": {
      "text/plain": [
       "(21499, 1378)"
      ]
     },
     "execution_count": 6,
     "metadata": {},
     "output_type": "execute_result"
    }
   ],
   "source": [
    "len(anna_sen), len(sonet_sen)"
   ]
  },
  {
   "cell_type": "markdown",
   "metadata": {},
   "source": [
    "длина предложения в буквах,\n",
    "число различных букв в предложении,\n",
    "число гласных в предложении,\n",
    "медиана числа букв в слове - различных букв? или просто медиана \n",
    "медиана числа гласных в слове."
   ]
  },
  {
   "cell_type": "code",
   "execution_count": 106,
   "metadata": {
    "collapsed": false
   },
   "outputs": [
    {
     "data": {
      "text/plain": [
       "{'а', 'е', 'и', 'о', 'у', 'ы', 'э', 'ю', 'я', 'ё'}"
      ]
     },
     "execution_count": 106,
     "metadata": {},
     "output_type": "execute_result"
    }
   ],
   "source": [
    "ru_vowels = set(['а', 'о', 'э', 'и', 'у', 'ы', 'е', 'ё', 'ю', 'я'])\n",
    "ru_vowels"
   ]
  },
  {
   "cell_type": "code",
   "execution_count": 51,
   "metadata": {
    "collapsed": false
   },
   "outputs": [],
   "source": [
    "def count_letters(string):\n",
    "    letters = [symb.lower() for symb in list(string) if symb.isalpha() is True]\n",
    "    return len(set(letters))"
   ]
  },
  {
   "cell_type": "code",
   "execution_count": 52,
   "metadata": {
    "collapsed": false
   },
   "outputs": [],
   "source": [
    "def count_vowels(string):\n",
    "    vowels = [symb.lower() for symb in list(string) if symb.lower() in ru_vowels]\n",
    "    return(len(vowels))"
   ]
  },
  {
   "cell_type": "code",
   "execution_count": 108,
   "metadata": {
    "collapsed": false
   },
   "outputs": [],
   "source": [
    "anna_data = [(1, len(sent), count_letters(sent), count_vowels(sent), \n",
    "              np.median([count_letters(word) for word in sent.split()]),\n",
    "              np.median([count_vowels(word) for word in sent.split()])\n",
    "             ) for sent in anna_sen if len(sent) > 0 and len(sent.split()) > 0]"
   ]
  },
  {
   "cell_type": "code",
   "execution_count": 109,
   "metadata": {
    "collapsed": false
   },
   "outputs": [],
   "source": [
    "sonet_data = [(2, len(sent), count_letters(sent), count_vowels(sent), \n",
    "              np.median([count_letters(word) for word in sent.split()]),\n",
    "              np.median([count_vowels(word) for word in sent.split()])\n",
    "             ) for sent in sonet_sen if len(sent) > 0 and len(sent.split()) > 0]"
   ]
  },
  {
   "cell_type": "code",
   "execution_count": 62,
   "metadata": {
    "collapsed": false
   },
   "outputs": [
    {
     "data": {
      "text/plain": [
       "(21233, 1360)"
      ]
     },
     "execution_count": 62,
     "metadata": {},
     "output_type": "execute_result"
    }
   ],
   "source": [
    "len(anna_data), len(sonet_data)"
   ]
  },
  {
   "cell_type": "code",
   "execution_count": 110,
   "metadata": {
    "collapsed": true
   },
   "outputs": [],
   "source": [
    "anna_data = np.array(anna_data)\n",
    "sonet_data = np.array(sonet_data)"
   ]
  },
  {
   "cell_type": "code",
   "execution_count": 65,
   "metadata": {
    "collapsed": true
   },
   "outputs": [],
   "source": [
    "%matplotlib inline\n",
    "from matplotlib import pyplot as plt"
   ]
  },
  {
   "cell_type": "code",
   "execution_count": 111,
   "metadata": {
    "collapsed": false
   },
   "outputs": [
    {
     "data": {
      "image/png": "[encoded data removed]",
      "text/plain": [
       "<matplotlib.figure.Figure at 0x7ff306bca128>"
      ]
     },
     "metadata": {},
     "output_type": "display_data"
    }
   ],
   "source": [
    "plt.figure()\n",
    "plt.plot(anna_data[:,1], anna_data[:,3], 'og',\n",
    "        sonet_data[:,1], sonet_data[:,3], 'sb')\n",
    "plt.show()"
   ]
  },
  {
   "cell_type": "code",
   "execution_count": 112,
   "metadata": {
    "collapsed": false
   },
   "outputs": [
    {
     "data": {
      "image/png": "[encoded data removed]",
      "text/plain": [
       "<matplotlib.figure.Figure at 0x7ff306bcac18>"
      ]
     },
     "metadata": {},
     "output_type": "display_data"
    }
   ],
   "source": [
    "plt.figure()\n",
    "plt.plot(anna_data[:,1], anna_data[:,3], 'og')\n",
    "plt.show()"
   ]
  },
  {
   "cell_type": "code",
   "execution_count": 96,
   "metadata": {
    "collapsed": false
   },
   "outputs": [
    {
     "name": "stderr",
     "output_type": "stream",
     "text": [
      "/usr/local/lib/python3.5/dist-packages/sklearn/cross_validation.py:44: DeprecationWarning: This module was deprecated in version 0.18 in favor of the model_selection module into which all the refactored classes and functions are moved. Also note that the interface of the new CV iterators are different from that of this module. This module will be removed in 0.20.\n",
      "  \"This module will be removed in 0.20.\", DeprecationWarning)\n",
      "/usr/local/lib/python3.5/dist-packages/sklearn/grid_search.py:43: DeprecationWarning: This module was deprecated in version 0.18 in favor of the model_selection module into which all the refactored classes and functions are moved. This module will be removed in 0.20.\n",
      "  DeprecationWarning)\n"
     ]
    }
   ],
   "source": [
    "from sklearn import grid_search, svm"
   ]
  },
  {
   "cell_type": "code",
   "execution_count": 113,
   "metadata": {
    "collapsed": false
   },
   "outputs": [],
   "source": [
    "data = np.vstack((anna_data, sonet_data))"
   ]
  },
  {
   "cell_type": "code",
   "execution_count": 115,
   "metadata": {
    "collapsed": false
   },
   "outputs": [
    {
     "data": {
      "text/plain": [
       "array([ 1.,  1.,  1., ...,  2.,  2.,  2.])"
      ]
     },
     "execution_count": 115,
     "metadata": {},
     "output_type": "execute_result"
    }
   ],
   "source": [
    "data[:, 0]"
   ]
  },
  {
   "cell_type": "code",
   "execution_count": 116,
   "metadata": {
    "collapsed": false
   },
   "outputs": [
    {
     "name": "stdout",
     "output_type": "stream",
     "text": [
      "Best result is  0.9398043641835967\n",
      "Best C is 0.5\n"
     ]
    }
   ],
   "source": [
    "parameters = {'C': (.1, .5, 1.0, 1.5, 1.7, 2.0)}\n",
    "gs = grid_search.GridSearchCV(svm.LinearSVC(), parameters)\n",
    "gs.fit(data[:, 1:], data[:, 0])\n",
    "print('Best result is ', gs.best_score_)\n",
    "print('Best C is', gs.best_estimator_.C)"
   ]
  },
  {
   "cell_type": "code",
   "execution_count": 117,
   "metadata": {
    "collapsed": false
   },
   "outputs": [
    {
     "data": {
      "text/plain": [
       "LinearSVC(C=0.5, class_weight=None, dual=True, fit_intercept=True,\n",
       "     intercept_scaling=1, loss='squared_hinge', max_iter=1000,\n",
       "     multi_class='ovr', penalty='l2', random_state=None, tol=0.0001,\n",
       "     verbose=0)"
      ]
     },
     "execution_count": 117,
     "metadata": {},
     "output_type": "execute_result"
    }
   ],
   "source": [
    "clf = svm.LinearSVC(C=gs.best_estimator_.C)\n",
    "clf.fit(data[::2, 1:], data[::2, 0])"
   ]
  },
  {
   "cell_type": "code",
   "execution_count": 125,
   "metadata": {
    "collapsed": false
   },
   "outputs": [
    {
     "name": "stdout",
     "output_type": "stream",
     "text": [
      "Пример ошибки: class =  2.0 , label =  [ 1.] , экземпляр  [ 58.  22.  21.   4.   1.]\n",
      "Пример ошибки: class =  2.0 , label =  [ 1.] , экземпляр  [ 133.   26.   42.    4.    2.]\n",
      "Пример ошибки: class =  2.0 , label =  [ 1.] , экземпляр  [ 61.  23.  20.   5.   3.]\n"
     ]
    }
   ],
   "source": [
    "wrong = 0\n",
    "for obj in data[1::2, :]:\n",
    "    label = clf.predict(obj[1:].reshape(1,-1))\n",
    "    if label != obj[0] and wrong < 3:\n",
    "        print('Пример ошибки: class = ', obj[0], ', label = ', label, ', экземпляр ', obj[1:])\n",
    "        wrong += 1\n",
    "    if wrong > 3:\n",
    "        break"
   ]
  }
 ],
 "metadata": {
  "kernelspec": {
   "display_name": "Python 3",
   "language": "python",
   "name": "python3"
  },
  "language_info": {
   "codemirror_mode": {
    "name": "ipython",
    "version": 3
   },
   "file_extension": ".py",
   "mimetype": "text/x-python",
   "name": "python",
   "nbconvert_exporter": "python",
   "pygments_lexer": "ipython3",
   "version": "3.5.2"
  }
 },
 "nbformat": 4,
 "nbformat_minor": 2
}
