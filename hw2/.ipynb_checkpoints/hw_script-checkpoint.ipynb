{
 "cells": [
  {
   "cell_type": "code",
   "execution_count": 1,
   "metadata": {
    "collapsed": false
   },
   "outputs": [],
   "source": [
    "import nltk\n",
    "from nltk.collocations import *\n",
    "bigram_measures = nltk.collocations.BigramAssocMeasures()\n",
    "trigram_measures = nltk.collocations.TrigramAssocMeasures()"
   ]
  },
  {
   "cell_type": "code",
   "execution_count": 2,
   "metadata": {
    "collapsed": false
   },
   "outputs": [
    {
     "data": {
      "text/plain": [
       "['Губернаторы',\n",
       " 'отвыкли',\n",
       " 'от',\n",
       " 'публичной',\n",
       " 'политики,',\n",
       " 'и',\n",
       " 'их',\n",
       " 'придется',\n",
       " 'учить',\n",
       " 'общаться']"
      ]
     },
     "execution_count": 2,
     "metadata": {},
     "output_type": "execute_result"
    }
   ],
   "source": [
    "words = open('news.txt').read().split()\n",
    "words[:10]"
   ]
  },
  {
   "cell_type": "code",
   "execution_count": 5,
   "metadata": {
    "collapsed": false
   },
   "outputs": [
    {
     "data": {
      "text/plain": [
       "['губернатор',\n",
       " 'отвыкнуть',\n",
       " 'от',\n",
       " 'публичный',\n",
       " 'политика',\n",
       " 'и',\n",
       " 'они',\n",
       " 'прийтись',\n",
       " 'учить',\n",
       " 'общаться']"
      ]
     },
     "execution_count": 5,
     "metadata": {},
     "output_type": "execute_result"
    }
   ],
   "source": [
    "import pymorphy2\n",
    "morph = pymorphy2.MorphAnalyzer()\n",
    "punct = '.,!?():;'\n",
    "words = [word.strip(punct) for word in open('news.txt').read().split()]\n",
    "words_tagged = [morph.parse(word)[0].normal_form for word in words]\n",
    "words_tagged[:10]"
   ]
  },
  {
   "cell_type": "markdown",
   "metadata": {},
   "source": [
    "йоу"
   ]
  },
  {
   "cell_type": "code",
   "execution_count": 6,
   "metadata": {
    "collapsed": true
   },
   "outputs": [],
   "source": [
    "finder = BigramCollocationFinder.from_words(words_tagged)"
   ]
  },
  {
   "cell_type": "code",
   "execution_count": 7,
   "metadata": {
    "collapsed": false
   },
   "outputs": [
    {
     "data": {
      "text/plain": [
       "[('\"закручивание', 'гаек\"'),\n",
       " ('+', '4,65%»'),\n",
       " ('0,58', 'евро»'),\n",
       " ('12–15', 'контрольно-надзорный'),\n",
       " ('1400', 'полувагон'),\n",
       " ('1577', 'lada'),\n",
       " ('17,2%', 'заболевание'),\n",
       " ('18,49%', 'ppf'),\n",
       " ('2,68%', '«сделка'),\n",
       " ('2010–2020', 'годы)»')]"
      ]
     },
     "execution_count": 7,
     "metadata": {},
     "output_type": "execute_result"
    }
   ],
   "source": [
    "finder.nbest(bigram_measures.pmi, 10)"
   ]
  },
  {
   "cell_type": "code",
   "execution_count": 20,
   "metadata": {
    "collapsed": false
   },
   "outputs": [
    {
     "data": {
      "text/plain": [
       "[('«уралсиб', 'кэпитал»'),\n",
       " ('«фк', 'открытие»'),\n",
       " ('baker', 'hughes'),\n",
       " ('merrill', 'lynch'),\n",
       " ('standard', 'chartered'),\n",
       " ('бивалютный', 'корзина'),\n",
       " ('пояснительный', 'записка'),\n",
       " ('morgan', 'stanley'),\n",
       " ('«мыть', 'москва»'),\n",
       " ('сельский', 'хозяйство')]"
      ]
     },
     "execution_count": 20,
     "metadata": {},
     "output_type": "execute_result"
    }
   ],
   "source": [
    "finder.apply_freq_filter(3)\n",
    "finder.nbest(bigram_measures.pmi, 10)"
   ]
  },
  {
   "cell_type": "code",
   "execution_count": 16,
   "metadata": {
    "collapsed": false
   },
   "outputs": [
    {
     "data": {
      "text/plain": [
       "['и', 'в', 'во', 'не', 'что', 'он', 'на', 'я', 'с', 'со']"
      ]
     },
     "execution_count": 16,
     "metadata": {},
     "output_type": "execute_result"
    }
   ],
   "source": [
    "stopwords = nltk.corpus.stopwords.words('russian')\n",
    "stopwords[:10]"
   ]
  },
  {
   "cell_type": "code",
   "execution_count": 21,
   "metadata": {
    "collapsed": false
   },
   "outputs": [
    {
     "data": {
      "text/plain": [
       "[('«уралсиб', 'кэпитал»'),\n",
       " ('«фк', 'открытие»'),\n",
       " ('baker', 'hughes'),\n",
       " ('merrill', 'lynch'),\n",
       " ('standard', 'chartered'),\n",
       " ('бивалютный', 'корзина'),\n",
       " ('пояснительный', 'записка'),\n",
       " ('morgan', 'stanley'),\n",
       " ('«мыть', 'москва»'),\n",
       " ('сельский', 'хозяйство')]"
      ]
     },
     "execution_count": 21,
     "metadata": {},
     "output_type": "execute_result"
    }
   ],
   "source": [
    "finder.apply_word_filter(lambda w: len(w) < 3 or w.lower() in stopwords)\n",
    "finder.nbest(bigram_measures.pmi, 10)"
   ]
  },
  {
   "cell_type": "code",
   "execution_count": 22,
   "metadata": {
    "collapsed": false
   },
   "outputs": [
    {
     "data": {
      "text/plain": [
       "[('миллиард', 'рубль'),\n",
       " ('2014', 'год'),\n",
       " ('2013', 'год'),\n",
       " ('2015', 'год'),\n",
       " ('точка', 'зрение'),\n",
       " ('сказать', 'рбк'),\n",
       " ('миллион', 'рубль'),\n",
       " ('владимир', 'путин'),\n",
       " ('«единый', 'россии»'),\n",
       " ('афк', '«система»')]"
      ]
     },
     "execution_count": 22,
     "metadata": {},
     "output_type": "execute_result"
    }
   ],
   "source": [
    "finder.nbest(bigram_measures.likelihood_ratio, 10)"
   ]
  },
  {
   "cell_type": "code",
   "execution_count": 23,
   "metadata": {
    "collapsed": true
   },
   "outputs": [],
   "source": [
    "frequent_bigrams = finder.above_score(bigram_measures.raw_freq, 0.0005)"
   ]
  },
  {
   "cell_type": "code",
   "execution_count": 25,
   "metadata": {
    "collapsed": false
   },
   "outputs": [
    {
     "name": "stdout",
     "output_type": "stream",
     "text": [
      "('миллиард', 'рубль')\n",
      "('2014', 'год')\n",
      "('2013', 'год')\n",
      "('2015', 'год')\n",
      "('миллион', 'рубль')\n",
      "('сказать', 'рбк')\n",
      "('это', 'год')\n"
     ]
    }
   ],
   "source": [
    "for b in frequent_bigrams:\n",
    "    print(b)"
   ]
  },
  {
   "cell_type": "code",
   "execution_count": null,
   "metadata": {
    "collapsed": true
   },
   "outputs": [],
   "source": [
    "#исключить числа и латиницу"
   ]
  }
 ],
 "metadata": {
  "kernelspec": {
   "display_name": "Python 3",
   "language": "python",
   "name": "python3"
  },
  "language_info": {
   "codemirror_mode": {
    "name": "ipython",
    "version": 3
   },
   "file_extension": ".py",
   "mimetype": "text/x-python",
   "name": "python",
   "nbconvert_exporter": "python",
   "pygments_lexer": "ipython3",
   "version": "3.5.2"
  }
 },
 "nbformat": 4,
 "nbformat_minor": 2
}
